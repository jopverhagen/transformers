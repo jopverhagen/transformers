{
 "cells": [
  {
   "cell_type": "code",
   "execution_count": 39,
   "id": "ac0f1ec6-948a-42ec-b199-c597bdd535c7",
   "metadata": {},
   "outputs": [],
   "source": [
    "import openai\n",
    "openai.api_key = ''\n",
    "\n",
    "def get_response(agent_command, max_tokens=20):\n",
    "    response = openai.ChatCompletion.create(\n",
    "        model=\"gpt-4\",\n",
    "        messages=[{\"role\": \"system\", \"content\": agent_command}],\n",
    "        max_tokens=max_tokens\n",
    "    )\n",
    "    return response['choices'][0]['message']['content']\n",
    "\n",
    "\n",
    "case_text = \"\"\"\n",
    "Accountants voor meer dan alleen uw jaarrekening\n",
    "Op zoek naar een accountant? Met een persoonlijke accountant-/administratieconsulent van Brouwers nemen wij al uw zorgen weg. Onze kennis is altijd up-to-date, en daar heeft u baat bij. Van hulp bij het samenstellen van uw jaarrekening, tot investeringsadvies en een sparringpartner op maat.\n",
    "\n",
    "Persoonlijke accountant-/administratieconsulent\n",
    "Goedgekeurd door NBA (beroepsorganisatie)\n",
    "Advies op maat\n",
    "Deskundigheid en ervaring\n",
    "Neem contact met ons op\n",
    "Accountancy bij Brouwers\n",
    "De accountancy service van Brouwers ontzorgt en adviseert. De eerste stap is natuurlijk uw jaarrekening. Onze persoonlijke accountant zorgt dat deze aan alle eisen voldoet. Maar wat zijn de vervolgstappen? Accountancy is meer dan alleen de financiële administratie. Zo adviseert Brouwers ook over de volgende punten:\n",
    "\n",
    "investeringen;\n",
    "het realiseren van een nieuwe productielocatie;\n",
    "rendement opvoeren;\n",
    "regelen van opvolging;\n",
    "uw bank overtuigen.\n",
    "De accountants van Brouwers gaan net een stapje verder en geven uit zichzelf advies, bieden managementinformatie en proberen continu uw performance te verbeteren. Dat is Brouwers.\n",
    "\n",
    "Persoonlijke Accountant\n",
    "De accountancy service van Brouwers geeft advies op maat. Een eigen accountant-/administratieconsulent? Onze professional zal niet alleen fungeren als accountant, maar ook als belastingadviseur en boekhouder. Kortom, wij zijn van alle markten thuis.\n",
    "\n",
    "Met een persoonlijke accountant van Brouwers komt u nooit voor verrassingen te staan. Onze financiële professionals houden u continu op de hoogte van de nieuwste informatie en financiële adviezen. Ze zien niet alleen de bedreigingen in uw financiële cijfers, maar ook de kansen.\n",
    "\n",
    "Accountancy diensten\n",
    "De accountancy service van Brouwers bestaat uit verschillende diensten. Alles begint natuurlijk bij een gezonde financiële administratie. Een overzicht van alle inzichten geeft een bron van nieuwe informatie. Met een persoonlijke toelichting van uw accountant, bent u zelf in staat belangrijke beslissingen te maken.\n",
    "\n",
    "Brouwers doet meer!\n",
    "Naast onze accountancy diensten, kunt u bij Brouwers ook terecht voor advies over personeelszaken, juridische zaken, fiscale vraagstukken, controle diensten, dan wel automatiseringsmogelijkheden.\n",
    "\n",
    "\"\"\""
   ]
  },
  {
   "cell_type": "markdown",
   "id": "d8624369-8e49-4066-962c-b4ba5156d51d",
   "metadata": {},
   "source": [
    "# Agent 1: De accountant expert\n",
    "je bent een expert Accountant en jouw taak is om voor Brouwers een nieuwe landingpage te schrijven over Vendor due diligence. De schrijfstijl van moet in de vorm van bovenstaande tekst"
   ]
  },
  {
   "cell_type": "code",
   "execution_count": 40,
   "id": "4e0cad53-b84a-4fbc-b3d1-2e2740b15711",
   "metadata": {},
   "outputs": [
    {
     "data": {
      "text/plain": [
       "'Vendor Due Diligence\\n\\nIn het geloof dat transacties met kracht worden gevuld door een grondige due diligence, biedt Brouwers ook Vendor Due Diligence diensten. Onze dedicated teams staan klaar om u, de verkoper, te helpen bij de voorbereiding van de financiële, fiscale, operationele en IT due diligence.\\n\\nWaarom Vendor Due Diligence?\\nVoordat een deal sluit, is het belangrijk dat u als verkoper inzicht krijgt in uw bedrijf vanuit het perspectief van de koper. Onze specialisten zullen alle aspecten van uw bedrijf onderzoeken, inclusief financiële prestaties, operationele efficiëntie, fiscale verplichtingen en IT-capaciteiten. Zo bent u goed voorbereid en weet u zeker dat alle aspecten van uw bedrijf aantrekkelijk en verkoopklaar zijn.\\n\\nWat kunt u verwachten?\\nOnze ervaring leert dat Vendor Due Diligence kan helpen bij het versnellen van het verkoopproces, de due diligence inspanningen voor kopers kan verminderen en de transactie kan vergemakkelijken. Wij zorgen ervoor dat de informatie die aan potentiële kopers ter beschikking wordt gesteld, nauwkeurig en volledig is, waardoor het vertrouwen in de deal wordt versterkt.\\n\\nOnze aanpak\\nOnze multidisciplinaire teams, onder leiding van een toegewijde projectmanager, onderzoeken alle relevante aspecten van uw bedrijf. Met jarenlange ervaring en expertise in een breed scala aan sectoren, is onze aanpak zowel robuust als flexibel. \\n\\nBrouwers biedt meer dan alleen due diligence\\nNaast Vendor Due Diligence, bieden wij een uitgebreid scala aan diensten ter ondersteuning van uw bedrijf. Mocht u naast het prepareren voor een verkoop ook nog andere vragen of behoeften hebben, wees gerust. Met de brede expertise aan diensten die Brouwers aanbiedt, is er altijd iets dat past bij uw specifieke behoe'"
      ]
     },
     "execution_count": 40,
     "metadata": {},
     "output_type": "execute_result"
    }
   ],
   "source": [
    "#agent 1: Accountant exepert\n",
    "agent_command = 'je bent een expert Accountant en jouw taak is om voor Brouwers een nieuwe landingpage te schrijven over Vendor due diligence. De schrijfstijl van moet in de vorm van: \\n\\n'+case_text+\"\\n\\n\"\n",
    "\n",
    "agent1_response = get_response(agent_command, 500)\n",
    "agent1_response "
   ]
  },
  {
   "cell_type": "markdown",
   "id": "8e817a7f-de76-40b9-b1a1-62aa1fbcb618",
   "metadata": {},
   "source": [
    "# Agent 2: De SEO exepert\n",
    "Je bent een SEO en jouw taak is om voor Brouwers een nieuwe landingpage te controlleren die is aangemaakt door een accountant. Dit is de tekst. Kun je op basis van deze tekst input geven voor de copywriter zodat het aan alle SEO eisen voldoet. Dit is de tekst:"
   ]
  },
  {
   "cell_type": "code",
   "execution_count": 41,
   "id": "400f84b9-8492-4c6f-87a1-73a98b58a86f",
   "metadata": {},
   "outputs": [
    {
     "data": {
      "text/plain": [
       "\"ften.\\n\\nEnkele SEO verbeterpunten en suggesties voor een copywriter zijn:\\n\\n1) Gebruik relevante keyword(s) in de titel en de eerste alinea - De titel en de eerste alinea van de pagina moeten de belangrijkste keywords bevatten. Bijvoorbeeld, 'vendor due diligence diensten', 'financiële due diligence', 'operationele due diligence', en 'IT due diligence' lijken belangrijke concepten, en dus mogelijke keyword targets, maar verschijnen niet in die exacte vorm in de tekst.\\n\\n2) Keyword verwerken in de tussenkopjes - Probeer om uw keyword in sommige van je tussenkoppen (H1, H2, H3, etc.) op te nemen. Zo zien zoekmachines dat deze inhoud relevant is voor de search query.\\n\\n3) Maak gebruik van interne en externe links - Interne links kunnen gebruikers helpen vindbaarheid op de website te verbeteren, terwijl externe links kunnen bijdragen aan de geloofwaardigheid van de inhoud.\\n\\n4) Maak een meta description - Hoewel het geen directe invloed op de ranking heeft, kan een goede meta description het doorklikpercentage (CTR) verhogen vanuit zoekresultaten. Zorg dat het kort, beschrijvend is, en uw keyword bevat.\\n\\n5) Gebruik synoniemen en gerelateerde termen - Zoekmachines gebruiken Latent Semantic Indexing (LSI) om te begrijpen hoe termen en inhoud samenhangen. Gebruik dus synoniemen en gerelateerde concepten om de inhoud te variëren en te versterken.\\n\\n6) Zorg voor waardevolle, unieke inhoud - Probeer de inhoud van de pagina zo informatief en uniek mogelijk te maken. Dit kan de tijd die gebruikers op de pagina doorbrengen verhogen, wat een positieve indicator voor zoekmachines is.\\n\\n7) Gebruik alt-tags voor afbeeldingen - Als je afbeeldingen op de pagina gebruikt, vergeet dan niet om 'alt'-tags toe te voegen die de afbeelding beschrijven. Dit helpt zoekmachines het onderwerp van de afbeelding te begrijpen.\""
      ]
     },
     "execution_count": 41,
     "metadata": {},
     "output_type": "execute_result"
    }
   ],
   "source": [
    "\n",
    "#agent 2: SEO exepert\n",
    "agent_command = case_text+'\\n\\nJe bent een SEO en jouw taak is om voor Brouwers een nieuwe landingpage te controlleren die is aangemaakt door een accountant. Dit is de tekst. Kun je op basis van deze tekst input geven voor de copywriter zodat het aan alle SEO eisen voldoet. Dit is de tekst:\\n'+agent1_response\n",
    "\n",
    "agent2_response = get_response(agent_command, 500)\n",
    "agent2_response \n",
    "\n"
   ]
  },
  {
   "cell_type": "markdown",
   "id": "ee93ae09-539a-4a25-a0c5-b1e4341add1c",
   "metadata": {},
   "source": [
    "# Agent 3: De copywriter\n",
    "Je bent een copywriter en expert op gebied van de nederlandse taal en jouw taak is om voor Brouwers een nieuwe landingpage te schrijven. Dit is de feedback van de seo exepert. Kun je op basis van deze feedback de uiteindelijke landingpage tekst maken:"
   ]
  },
  {
   "cell_type": "code",
   "execution_count": 42,
   "id": "07751ed7-27b3-4186-af13-70b973b642db",
   "metadata": {},
   "outputs": [
    {
     "data": {
      "text/plain": [
       "\"Brouwers: Uw partner voor Volledige Due-Diligence Diensten\\nBij Brouwers ontzorgen we u met professionele accountancy en geven we u deskundig advies op maat. Meer dan een traditionele accountant, leveren we financiële due diligence, vendor due diligence, operationele due diligence en IT due diligence, om maar een paar van onze diensten te noemen. \\n   \\nBrouwers: Uitgebreide Due Diligence Diensten \\n\\nAls uw betrouwbare partner, biedt Brouwers volledige due diligence-diensten die zijn ontworpen om uw zaken te versterken, met inbegrip van:\\n\\n1. Financiële Due Diligence: Onze experts zorgen voor een grondige beoordeling van uw financiële gezondheid, risico's en kansen.\\n\\n2. Verkoper Due Diligence: We bieden deskundig advies en gerichte oplossingen om u te helpen de best mogelijke indruk te maken op potentiële kopers.\\n\\n3. Operationele Due Diligence: Wij bieden inzicht in de efficiëntie van uw bedrijfsprocessen en adviseren over mogelijke verbeteringen.\\n\\n4. IT Due Diligence: Wij helpen u te begrijpen hoe uw technologische infrastructuur uw bedrijfsdoelstellingen ondersteunt of hindert.\\n\\nBrouwers: Meer Dan Alleen Accountancy \\n\\nIn aanvulling op onze uitgebreide due diligence-diensten, biedt Brouwers ook persoonlijk fiscaal advies, boekhouding en administratieconsultatie [interne link naar andere relevante pagina's op de website]. \\n\\nLaat Brouwers uw bedrijf beoordelen en adviseren [externe link naar gerelateerde, betrouwbare inhoud].\\n\\nMeta-description: Ontdek de complete due diligence diensten van Brouwers. Van financieel tot operationeel, wij bieden geïntegreerde accountancydiensten en deskundig advies op maat. \\n\\nWe benadrukken de waarde van uw onderneming met unieke, relevante content, waarmee we u échte inzichten bied\""
      ]
     },
     "execution_count": 42,
     "metadata": {},
     "output_type": "execute_result"
    }
   ],
   "source": [
    "#agent 3: copywriter\n",
    "agent_command = case_text+'\\n\\nje bent een copywriter en expert op gebied van de nederlandse taal en jouw taak is om voor Brouwers een nieuwe landingpage te schrijven. Dit is de feedback van de seo exepert. Kun je op basis van deze feedback de uiteindelijke landingpage tekst maken:\\n'+agent2_response\n",
    "\n",
    "agent3_response = get_response(agent_command, 500)\n",
    "agent3_response "
   ]
  },
  {
   "cell_type": "markdown",
   "id": "c07a7cb5-11d8-4e4a-89e4-4e41b27a1d78",
   "metadata": {},
   "source": [
    "output\n",
    "\n",
    "Brouwers: Uw partner voor Volledige Due-Diligence Diensten\n",
    "Bij Brouwers ontzorgen we u met professionele accountancy en geven we u deskundig advies op maat. Meer dan een traditionele accountant, leveren we financiële due diligence, vendor due diligence, operationele due diligence en IT due diligence, om maar een paar van onze diensten te noemen.\n",
    "\n",
    "Brouwers: Uitgebreide Due Diligence Diensten\n",
    "\n",
    "Als uw betrouwbare partner, biedt Brouwers volledige due diligence-diensten die zijn ontworpen om uw zaken te versterken, met inbegrip van:\n",
    "1. Financiële Due Diligence: Onze experts zorgen voor een grondige beoordeling van uw financiële gezondheid, risico's en kansen.\n",
    "2. Verkoper Due Diligence: We bieden deskundig advies en gerichte oplossingen om u te helpen de best mogelijke indruk te maken op potentiële kopers.\n",
    "3. Operationele Due Diligence: Wij bieden inzicht in de efficiëntie van uw bedrijfsprocessen en adviseren over mogelijke verbeteringen.\n",
    "4. IT Due Diligence: Wij helpen u te begrijpen hoe uw technologische infrastructuur uw bedrijfsdoelstellingen ondersteunt of hindert.\n",
    "\n",
    "Brouwers: Meer Dan Alleen Accountancy\n",
    "In aanvulling op onze uitgebreide due diligence-diensten, biedt Brouwers ook persoonlijk fiscaal advies, boekhouding en administratieconsultatie [interne link naar andere relevante pagina's op de website].\n",
    "Laat Brouwers uw bedrijf beoordelen en adviseren [externe link naar gerelateerde, betrouwbare inhoud].\n",
    "\n",
    "Meta-description: Ontdek de complete due diligence diensten van Brouwers. Van financieel tot operationeel, wij bieden geïntegreerde accountancydiensten en deskundig advies op maat. \\n\\nWe benadrukken de waarde van uw onderneming met unieke, relevante content, waarmee we u échte inzichten bied\""
   ]
  },
  {
   "cell_type": "code",
   "execution_count": null,
   "id": "fd17e935-9cc6-4e05-82d6-c7cf3950a704",
   "metadata": {},
   "outputs": [],
   "source": []
  },
  {
   "cell_type": "code",
   "execution_count": null,
   "id": "673bfcb3-3be1-4fff-b3cc-8ba2583fc034",
   "metadata": {},
   "outputs": [],
   "source": []
  }
 ],
 "metadata": {
  "kernelspec": {
   "display_name": "Python 3 (ipykernel)",
   "language": "python",
   "name": "python3"
  },
  "language_info": {
   "codemirror_mode": {
    "name": "ipython",
    "version": 3
   },
   "file_extension": ".py",
   "mimetype": "text/x-python",
   "name": "python",
   "nbconvert_exporter": "python",
   "pygments_lexer": "ipython3",
   "version": "3.11.4"
  }
 },
 "nbformat": 4,
 "nbformat_minor": 5
}
